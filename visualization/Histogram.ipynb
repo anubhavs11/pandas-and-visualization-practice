{
 "cells": [
  {
   "cell_type": "code",
   "execution_count": 1,
   "metadata": {},
   "outputs": [],
   "source": [
    "import numpy as np"
   ]
  },
  {
   "cell_type": "code",
   "execution_count": 2,
   "metadata": {},
   "outputs": [],
   "source": [
    "import matplotlib as mpl\n",
    "import matplotlib.pyplot as plt"
   ]
  },
  {
   "cell_type": "code",
   "execution_count": 3,
   "metadata": {},
   "outputs": [],
   "source": [
    "%matplotlib inline"
   ]
  },
  {
   "cell_type": "code",
   "execution_count": 4,
   "metadata": {},
   "outputs": [],
   "source": [
    "dataset1 = np.random.randn(100)"
   ]
  },
  {
   "cell_type": "code",
   "execution_count": 5,
   "metadata": {},
   "outputs": [
    {
     "data": {
      "text/plain": [
       "(array([ 3.,  4., 15., 12., 12., 16., 17., 13.,  4.,  4.]),\n",
       " array([-2.18259896, -1.765441  , -1.34828304, -0.93112508, -0.51396712,\n",
       "        -0.09680915,  0.32034881,  0.73750677,  1.15466473,  1.57182269,\n",
       "         1.98898065]),\n",
       " <a list of 10 Patch objects>)"
      ]
     },
     "execution_count": 5,
     "metadata": {},
     "output_type": "execute_result"
    },
    {
     "data": {
      "image/png": "[encoded data removed]",
      "text/plain": [
       "<Figure size 432x288 with 1 Axes>"
      ]
     },
     "metadata": {},
     "output_type": "display_data"
    }
   ],
   "source": [
    "plt.hist(dataset1)"
   ]
  },
  {
   "cell_type": "code",
   "execution_count": 19,
   "metadata": {},
   "outputs": [
    {
     "data": {
      "text/plain": [
       "(array([ 1.,  2.,  2.,  2.,  6.,  9.,  5.,  7.,  2., 10.,  9.,  7.,  8.,\n",
       "         9.,  9.,  4.,  4.,  0.,  2.,  2.]),\n",
       " array([-2.18259896, -1.97401998, -1.765441  , -1.55686202, -1.34828304,\n",
       "        -1.13970406, -0.93112508, -0.7225461 , -0.51396712, -0.30538814,\n",
       "        -0.09680915,  0.11176983,  0.32034881,  0.52892779,  0.73750677,\n",
       "         0.94608575,  1.15466473,  1.36324371,  1.57182269,  1.78040167,\n",
       "         1.98898065]),\n",
       " <a list of 20 Patch objects>)"
      ]
     },
     "execution_count": 19,
     "metadata": {},
     "output_type": "execute_result"
    },
    {
     "data": {
      "image/png": "[encoded data removed]",
      "text/plain": [
       "<Figure size 432x288 with 1 Axes>"
      ]
     },
     "metadata": {},
     "output_type": "display_data"
    }
   ],
   "source": [
    "plt.hist(dataset1,color = \"indianred\",bins = 20)"
   ]
  },
  {
   "cell_type": "code",
   "execution_count": 24,
   "metadata": {},
   "outputs": [
    {
     "data": {
      "text/plain": [
       "(array([ 1.,  2.,  2.,  2.,  6.,  9.,  5.,  7.,  2., 10.,  9.,  7.,  8.,\n",
       "         9.,  9.,  4.,  4.,  0.,  2.,  2.]),\n",
       " array([-2.18259896, -1.97401998, -1.765441  , -1.55686202, -1.34828304,\n",
       "        -1.13970406, -0.93112508, -0.7225461 , -0.51396712, -0.30538814,\n",
       "        -0.09680915,  0.11176983,  0.32034881,  0.52892779,  0.73750677,\n",
       "         0.94608575,  1.15466473,  1.36324371,  1.57182269,  1.78040167,\n",
       "         1.98898065]),\n",
       " <a list of 20 Patch objects>)"
      ]
     },
     "execution_count": 24,
     "metadata": {},
     "output_type": "execute_result"
    },
    {
     "data": {
      "image/png": "[encoded data removed]",
      "text/plain": [
       "<Figure size 432x288 with 1 Axes>"
      ]
     },
     "metadata": {},
     "output_type": "display_data"
    }
   ],
   "source": [
    "plt.hist(dataset1,color = \"indianred\",bins = 20,rwidth=.95)"
   ]
  },
  {
   "cell_type": "code",
   "execution_count": 36,
   "metadata": {},
   "outputs": [
    {
     "data": {
      "text/plain": [
       "(array([1., 2., 0., 2., 0., 0., 1., 2., 0., 1.]),\n",
       " array([1. , 1.1, 1.2, 1.3, 1.4, 1.5, 1.6, 1.7, 1.8, 1.9, 2. ]),\n",
       " <a list of 10 Patch objects>)"
      ]
     },
     "execution_count": 36,
     "metadata": {},
     "output_type": "execute_result"
    },
    {
     "data": {
      "image/png": "[encoded data removed]",
      "text/plain": [
       "<Figure size 432x288 with 1 Axes>"
      ]
     },
     "metadata": {},
     "output_type": "display_data"
    }
   ],
   "source": [
    "plt.hist(dataset1 ,range=(1,2))"
   ]
  },
  {
   "cell_type": "code",
   "execution_count": 47,
   "metadata": {},
   "outputs": [
    {
     "data": {
      "text/plain": [
       "(array([ 3.,  4., 15., 12., 12., 16., 17., 13.,  4.,  4.]),\n",
       " array([-2.18259896, -1.765441  , -1.34828304, -0.93112508, -0.51396712,\n",
       "        -0.09680915,  0.32034881,  0.73750677,  1.15466473,  1.57182269,\n",
       "         1.98898065]),\n",
       " <a list of 1 Patch objects>)"
      ]
     },
     "execution_count": 47,
     "metadata": {},
     "output_type": "execute_result"
    },
    {
     "data": {
      "image/png": "[encoded data removed]",
      "text/plain": [
       "<Figure size 432x288 with 1 Axes>"
      ]
     },
     "metadata": {},
     "output_type": "display_data"
    }
   ],
   "source": [
    "plt.hist(dataset1 , histtype= \"step\")"
   ]
  },
  {
   "cell_type": "code",
   "execution_count": 48,
   "metadata": {},
   "outputs": [
    {
     "data": {
      "text/plain": [
       "(array([ 3.,  4., 15., 12., 12., 16., 17., 13.,  4.,  4.]),\n",
       " array([-2.18259896, -1.765441  , -1.34828304, -0.93112508, -0.51396712,\n",
       "        -0.09680915,  0.32034881,  0.73750677,  1.15466473,  1.57182269,\n",
       "         1.98898065]),\n",
       " <a list of 10 Patch objects>)"
      ]
     },
     "execution_count": 48,
     "metadata": {},
     "output_type": "execute_result"
    },
    {
     "data": {
      "image/png": "[encoded data removed]",
      "text/plain": [
       "<Figure size 432x288 with 1 Axes>"
      ]
     },
     "metadata": {},
     "output_type": "display_data"
    }
   ],
   "source": [
    "plt.hist(dataset1,histtype=\"barstacked\")"
   ]
  },
  {
   "cell_type": "code",
   "execution_count": 49,
   "metadata": {},
   "outputs": [
    {
     "data": {
      "text/plain": [
       "(array([ 3.,  4., 15., 12., 12., 16., 17., 13.,  4.,  4.]),\n",
       " array([-2.18259896, -1.765441  , -1.34828304, -0.93112508, -0.51396712,\n",
       "        -0.09680915,  0.32034881,  0.73750677,  1.15466473,  1.57182269,\n",
       "         1.98898065]),\n",
       " <a list of 1 Patch objects>)"
      ]
     },
     "execution_count": 49,
     "metadata": {},
     "output_type": "execute_result"
    },
    {
     "data": {
      "image/png": "[encoded data removed]",
      "text/plain": [
       "<Figure size 432x288 with 1 Axes>"
      ]
     },
     "metadata": {},
     "output_type": "display_data"
    }
   ],
   "source": [
    "plt.hist(dataset1, histtype=\"stepfilled\")"
   ]
  },
  {
   "cell_type": "code",
   "execution_count": 52,
   "metadata": {},
   "outputs": [
    {
     "data": {
      "text/plain": [
       "(array([ 3.,  4., 15., 12., 12., 16., 17., 13.,  4.,  4.]),\n",
       " array([-2.18259896, -1.765441  , -1.34828304, -0.93112508, -0.51396712,\n",
       "        -0.09680915,  0.32034881,  0.73750677,  1.15466473,  1.57182269,\n",
       "         1.98898065]),\n",
       " <a list of 10 Patch objects>)"
      ]
     },
     "execution_count": 52,
     "metadata": {},
     "output_type": "execute_result"
    },
    {
     "data": {
      "image/png": "[encoded data removed]",
      "text/plain": [
       "<Figure size 432x288 with 1 Axes>"
      ]
     },
     "metadata": {},
     "output_type": "display_data"
    }
   ],
   "source": [
    "plt.hist(dataset1,orientation=\"horizontal\")"
   ]
  },
  {
   "cell_type": "code",
   "execution_count": 53,
   "metadata": {},
   "outputs": [
    {
     "data": {
      "text/plain": [
       "(array([ 3.,  4., 15., 12., 12., 16., 17., 13.,  4.,  4.]),\n",
       " array([-2.18259896, -1.765441  , -1.34828304, -0.93112508, -0.51396712,\n",
       "        -0.09680915,  0.32034881,  0.73750677,  1.15466473,  1.57182269,\n",
       "         1.98898065]),\n",
       " <a list of 10 Patch objects>)"
      ]
     },
     "execution_count": 53,
     "metadata": {},
     "output_type": "execute_result"
    },
    {
     "data": {
      "image/png": "[encoded data removed]",
      "text/plain": [
       "<Figure size 432x288 with 1 Axes>"
      ]
     },
     "metadata": {},
     "output_type": "display_data"
    }
   ],
   "source": [
    "plt.hist(dataset1 , orientation= \"vertical\")"
   ]
  },
  {
   "cell_type": "code",
   "execution_count": 54,
   "metadata": {},
   "outputs": [
    {
     "data": {
      "text/plain": [
       "(array([ 3.,  4., 15., 12., 12., 16., 17., 13.,  4.,  4.]),\n",
       " array([-2.18259896, -1.765441  , -1.34828304, -0.93112508, -0.51396712,\n",
       "        -0.09680915,  0.32034881,  0.73750677,  1.15466473,  1.57182269,\n",
       "         1.98898065]),\n",
       " <a list of 10 Patch objects>)"
      ]
     },
     "execution_count": 54,
     "metadata": {},
     "output_type": "execute_result"
    },
    {
     "data": {
      "image/png": "[encoded data removed]",
      "text/plain": [
       "<Figure size 432x288 with 1 Axes>"
      ]
     },
     "metadata": {},
     "output_type": "display_data"
    }
   ],
   "source": [
    "plt.hist(dataset1,stacked = True)"
   ]
  },
  {
   "cell_type": "markdown",
   "metadata": {},
   "source": [
    "## Potting on same graph"
   ]
  },
  {
   "cell_type": "code",
   "execution_count": 25,
   "metadata": {},
   "outputs": [],
   "source": [
    "dataset2 = np.random.randn(200)"
   ]
  },
  {
   "cell_type": "code",
   "execution_count": 29,
   "metadata": {},
   "outputs": [
    {
     "data": {
      "text/plain": [
       "(array([ 1.,  2.,  9., 16., 35., 43., 42., 28., 20.,  4.]),\n",
       " array([-3.40058638, -2.81060893, -2.22063149, -1.63065405, -1.0406766 ,\n",
       "        -0.45069916,  0.13927828,  0.72925573,  1.31923317,  1.90921061,\n",
       "         2.49918806]),\n",
       " <a list of 10 Patch objects>)"
      ]
     },
     "execution_count": 29,
     "metadata": {},
     "output_type": "execute_result"
    },
    {
     "data": {
      "image/png": "[encoded data removed]",
      "text/plain": [
       "<Figure size 432x288 with 1 Axes>"
      ]
     },
     "metadata": {},
     "output_type": "display_data"
    }
   ],
   "source": [
    "plt.hist(dataset2)"
   ]
  },
  {
   "cell_type": "markdown",
   "metadata": {},
   "source": [
    "normed is True to plot 2 histogram on same\n",
    "alpha determines transparancy"
   ]
  },
  {
   "cell_type": "code",
   "execution_count": 33,
   "metadata": {},
   "outputs": [
    {
     "name": "stderr",
     "output_type": "stream",
     "text": [
      "/root/anaconda3/lib/python3.6/site-packages/matplotlib/axes/_axes.py:6462: UserWarning: The 'normed' kwarg is deprecated, and has been replaced by the 'density' kwarg.\n",
      "  warnings.warn(\"The 'normed' kwarg is deprecated, and has been \"\n"
     ]
    },
    {
     "data": {
      "text/plain": [
       "(array([0.0084749 , 0.0169498 , 0.0762741 , 0.1355984 , 0.29662151,\n",
       "        0.36442071, 0.35594581, 0.23729721, 0.16949801, 0.0338996 ]),\n",
       " array([-3.40058638, -2.81060893, -2.22063149, -1.63065405, -1.0406766 ,\n",
       "        -0.45069916,  0.13927828,  0.72925573,  1.31923317,  1.90921061,\n",
       "         2.49918806]),\n",
       " <a list of 10 Patch objects>)"
      ]
     },
     "execution_count": 33,
     "metadata": {},
     "output_type": "execute_result"
    },
    {
     "data": {
      "image/png": "[encoded data removed]",
      "text/plain": [
       "<Figure size 432x288 with 1 Axes>"
      ]
     },
     "metadata": {},
     "output_type": "display_data"
    }
   ],
   "source": [
    "plt.hist(dataset1, normed = True, alpha = 0.5)\n",
    "plt.hist(dataset2 , color = \"indianred\" , normed = True , alpha = 0.5)"
   ]
  }
 ],
 "metadata": {
  "kernelspec": {
   "display_name": "Python 3",
   "language": "python",
   "name": "python3"
  },
  "language_info": {
   "codemirror_mode": {
    "name": "ipython",
    "version": 3
   },
   "file_extension": ".py",
   "mimetype": "text/x-python",
   "name": "python",
   "nbconvert_exporter": "python",
   "pygments_lexer": "ipython3",
   "version": "3.6.5"
  }
 },
 "nbformat": 4,
 "nbformat_minor": 2
}
