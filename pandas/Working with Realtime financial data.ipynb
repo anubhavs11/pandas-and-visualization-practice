{
 "cells": [
  {
   "cell_type": "markdown",
   "metadata": {},
   "source": [
    "# Working with REALTIME Financial Data"
   ]
  },
  {
   "cell_type": "code",
   "execution_count": 5,
   "metadata": {},
   "outputs": [],
   "source": [
    "from pandas_datareader import data\n",
    "import datetime as dt\n",
    "import pandas as pd\n",
    "from datetime import datetime"
   ]
  },
  {
   "cell_type": "code",
   "execution_count": 8,
   "metadata": {},
   "outputs": [],
   "source": [
    "tech_list = [\"AAPL\",\"GOOG\",\"MSFT\",\"AMZN\"]"
   ]
  },
  {
   "cell_type": "code",
   "execution_count": 9,
   "metadata": {},
   "outputs": [],
   "source": [
    "end = datetime.now()\n",
    "start = datetime(end.year-1,end.month,end.day)"
   ]
  },
  {
   "cell_type": "code",
   "execution_count": 10,
   "metadata": {},
   "outputs": [],
   "source": [
    "for stock in tech_list:\n",
    "    globals()[stock] = data.DataReader(stock,\"yahoo\",start,end)"
   ]
  },
  {
   "cell_type": "code",
   "execution_count": 13,
   "metadata": {},
   "outputs": [
    {
     "data": {
      "text/html": [
       "<div>\n",
       "<style scoped>\n",
       "    .dataframe tbody tr th:only-of-type {\n",
       "        vertical-align: middle;\n",
       "    }\n",
       "\n",
       "    .dataframe tbody tr th {\n",
       "        vertical-align: top;\n",
       "    }\n",
       "\n",
       "    .dataframe thead th {\n",
       "        text-align: right;\n",
       "    }\n",
       "</style>\n",
       "<table border=\"1\" class=\"dataframe\">\n",
       "  <thead>\n",
       "    <tr style=\"text-align: right;\">\n",
       "      <th></th>\n",
       "      <th>High</th>\n",
       "      <th>Low</th>\n",
       "      <th>Open</th>\n",
       "      <th>Close</th>\n",
       "      <th>Volume</th>\n",
       "      <th>Adj Close</th>\n",
       "    </tr>\n",
       "    <tr>\n",
       "      <th>Date</th>\n",
       "      <th></th>\n",
       "      <th></th>\n",
       "      <th></th>\n",
       "      <th></th>\n",
       "      <th></th>\n",
       "      <th></th>\n",
       "    </tr>\n",
       "  </thead>\n",
       "  <tbody>\n",
       "    <tr>\n",
       "      <th>2017-07-17</th>\n",
       "      <td>150.899994</td>\n",
       "      <td>148.570007</td>\n",
       "      <td>148.820007</td>\n",
       "      <td>149.559998</td>\n",
       "      <td>23793500.0</td>\n",
       "      <td>147.270706</td>\n",
       "    </tr>\n",
       "  </tbody>\n",
       "</table>\n",
       "</div>"
      ],
      "text/plain": [
       "                  High         Low        Open       Close      Volume  \\\n",
       "Date                                                                     \n",
       "2017-07-17  150.899994  148.570007  148.820007  149.559998  23793500.0   \n",
       "\n",
       "             Adj Close  \n",
       "Date                    \n",
       "2017-07-17  147.270706  "
      ]
     },
     "execution_count": 13,
     "metadata": {},
     "output_type": "execute_result"
    }
   ],
   "source": [
    "AAPL.head(1)"
   ]
  },
  {
   "cell_type": "code",
   "execution_count": 14,
   "metadata": {},
   "outputs": [
    {
     "data": {
      "text/html": [
       "<div>\n",
       "<style scoped>\n",
       "    .dataframe tbody tr th:only-of-type {\n",
       "        vertical-align: middle;\n",
       "    }\n",
       "\n",
       "    .dataframe tbody tr th {\n",
       "        vertical-align: top;\n",
       "    }\n",
       "\n",
       "    .dataframe thead th {\n",
       "        text-align: right;\n",
       "    }\n",
       "</style>\n",
       "<table border=\"1\" class=\"dataframe\">\n",
       "  <thead>\n",
       "    <tr style=\"text-align: right;\">\n",
       "      <th></th>\n",
       "      <th>High</th>\n",
       "      <th>Low</th>\n",
       "      <th>Open</th>\n",
       "      <th>Close</th>\n",
       "      <th>Volume</th>\n",
       "      <th>Adj Close</th>\n",
       "    </tr>\n",
       "    <tr>\n",
       "      <th>Date</th>\n",
       "      <th></th>\n",
       "      <th></th>\n",
       "      <th></th>\n",
       "      <th></th>\n",
       "      <th></th>\n",
       "      <th></th>\n",
       "    </tr>\n",
       "  </thead>\n",
       "  <tbody>\n",
       "    <tr>\n",
       "      <th>2018-07-18</th>\n",
       "      <td>191.800003</td>\n",
       "      <td>190.202499</td>\n",
       "      <td>191.779999</td>\n",
       "      <td>190.610001</td>\n",
       "      <td>2327425.0</td>\n",
       "      <td>190.610001</td>\n",
       "    </tr>\n",
       "  </tbody>\n",
       "</table>\n",
       "</div>"
      ],
      "text/plain": [
       "                  High         Low        Open       Close     Volume  \\\n",
       "Date                                                                    \n",
       "2018-07-18  191.800003  190.202499  191.779999  190.610001  2327425.0   \n",
       "\n",
       "             Adj Close  \n",
       "Date                    \n",
       "2018-07-18  190.610001  "
      ]
     },
     "execution_count": 14,
     "metadata": {},
     "output_type": "execute_result"
    }
   ],
   "source": [
    "AAPL.tail(1)"
   ]
  },
  {
   "cell_type": "code",
   "execution_count": 15,
   "metadata": {},
   "outputs": [
    {
     "data": {
      "text/html": [
       "<div>\n",
       "<style scoped>\n",
       "    .dataframe tbody tr th:only-of-type {\n",
       "        vertical-align: middle;\n",
       "    }\n",
       "\n",
       "    .dataframe tbody tr th {\n",
       "        vertical-align: top;\n",
       "    }\n",
       "\n",
       "    .dataframe thead th {\n",
       "        text-align: right;\n",
       "    }\n",
       "</style>\n",
       "<table border=\"1\" class=\"dataframe\">\n",
       "  <thead>\n",
       "    <tr style=\"text-align: right;\">\n",
       "      <th></th>\n",
       "      <th>High</th>\n",
       "      <th>Low</th>\n",
       "      <th>Open</th>\n",
       "      <th>Close</th>\n",
       "      <th>Volume</th>\n",
       "      <th>Adj Close</th>\n",
       "    </tr>\n",
       "    <tr>\n",
       "      <th>Date</th>\n",
       "      <th></th>\n",
       "      <th></th>\n",
       "      <th></th>\n",
       "      <th></th>\n",
       "      <th></th>\n",
       "      <th></th>\n",
       "    </tr>\n",
       "  </thead>\n",
       "  <tbody>\n",
       "    <tr>\n",
       "      <th>2017-07-17</th>\n",
       "      <td>960.73999</td>\n",
       "      <td>949.241028</td>\n",
       "      <td>957.0</td>\n",
       "      <td>953.419983</td>\n",
       "      <td>1165500</td>\n",
       "      <td>953.419983</td>\n",
       "    </tr>\n",
       "  </tbody>\n",
       "</table>\n",
       "</div>"
      ],
      "text/plain": [
       "                 High         Low   Open       Close   Volume   Adj Close\n",
       "Date                                                                     \n",
       "2017-07-17  960.73999  949.241028  957.0  953.419983  1165500  953.419983"
      ]
     },
     "execution_count": 15,
     "metadata": {},
     "output_type": "execute_result"
    }
   ],
   "source": [
    "GOOG.head(1)"
   ]
  },
  {
   "cell_type": "code",
   "execution_count": 16,
   "metadata": {},
   "outputs": [
    {
     "data": {
      "text/html": [
       "<div>\n",
       "<style scoped>\n",
       "    .dataframe tbody tr th:only-of-type {\n",
       "        vertical-align: middle;\n",
       "    }\n",
       "\n",
       "    .dataframe tbody tr th {\n",
       "        vertical-align: top;\n",
       "    }\n",
       "\n",
       "    .dataframe thead th {\n",
       "        text-align: right;\n",
       "    }\n",
       "</style>\n",
       "<table border=\"1\" class=\"dataframe\">\n",
       "  <thead>\n",
       "    <tr style=\"text-align: right;\">\n",
       "      <th></th>\n",
       "      <th>High</th>\n",
       "      <th>Low</th>\n",
       "      <th>Open</th>\n",
       "      <th>Close</th>\n",
       "      <th>Volume</th>\n",
       "      <th>Adj Close</th>\n",
       "    </tr>\n",
       "    <tr>\n",
       "      <th>Date</th>\n",
       "      <th></th>\n",
       "      <th></th>\n",
       "      <th></th>\n",
       "      <th></th>\n",
       "      <th></th>\n",
       "      <th></th>\n",
       "    </tr>\n",
       "  </thead>\n",
       "  <tbody>\n",
       "    <tr>\n",
       "      <th>2017-07-17</th>\n",
       "      <td>73.449997</td>\n",
       "      <td>72.720001</td>\n",
       "      <td>72.800003</td>\n",
       "      <td>73.349998</td>\n",
       "      <td>21803900.0</td>\n",
       "      <td>71.945412</td>\n",
       "    </tr>\n",
       "  </tbody>\n",
       "</table>\n",
       "</div>"
      ],
      "text/plain": [
       "                 High        Low       Open      Close      Volume  Adj Close\n",
       "Date                                                                         \n",
       "2017-07-17  73.449997  72.720001  72.800003  73.349998  21803900.0  71.945412"
      ]
     },
     "execution_count": 16,
     "metadata": {},
     "output_type": "execute_result"
    }
   ],
   "source": [
    "MSFT.head(1)"
   ]
  },
  {
   "cell_type": "code",
   "execution_count": 13,
   "metadata": {},
   "outputs": [
    {
     "data": {
      "text/html": [
       "<div>\n",
       "<style scoped>\n",
       "    .dataframe tbody tr th:only-of-type {\n",
       "        vertical-align: middle;\n",
       "    }\n",
       "\n",
       "    .dataframe tbody tr th {\n",
       "        vertical-align: top;\n",
       "    }\n",
       "\n",
       "    .dataframe thead th {\n",
       "        text-align: right;\n",
       "    }\n",
       "</style>\n",
       "<table border=\"1\" class=\"dataframe\">\n",
       "  <thead>\n",
       "    <tr style=\"text-align: right;\">\n",
       "      <th></th>\n",
       "      <th>Open</th>\n",
       "      <th>High</th>\n",
       "      <th>Low</th>\n",
       "      <th>Close</th>\n",
       "      <th>Volume</th>\n",
       "      <th>ExDividend</th>\n",
       "      <th>SplitRatio</th>\n",
       "      <th>AdjOpen</th>\n",
       "      <th>AdjHigh</th>\n",
       "      <th>AdjLow</th>\n",
       "      <th>AdjClose</th>\n",
       "      <th>AdjVolume</th>\n",
       "    </tr>\n",
       "    <tr>\n",
       "      <th>Date</th>\n",
       "      <th></th>\n",
       "      <th></th>\n",
       "      <th></th>\n",
       "      <th></th>\n",
       "      <th></th>\n",
       "      <th></th>\n",
       "      <th></th>\n",
       "      <th></th>\n",
       "      <th></th>\n",
       "      <th></th>\n",
       "      <th></th>\n",
       "      <th></th>\n",
       "    </tr>\n",
       "  </thead>\n",
       "  <tbody>\n",
       "    <tr>\n",
       "      <th>2018-03-27</th>\n",
       "      <td>94.94</td>\n",
       "      <td>95.139</td>\n",
       "      <td>88.51</td>\n",
       "      <td>89.47</td>\n",
       "      <td>53704562.0</td>\n",
       "      <td>0.0</td>\n",
       "      <td>1.0</td>\n",
       "      <td>94.94</td>\n",
       "      <td>95.139</td>\n",
       "      <td>88.51</td>\n",
       "      <td>89.47</td>\n",
       "      <td>53704562.0</td>\n",
       "    </tr>\n",
       "    <tr>\n",
       "      <th>2018-03-26</th>\n",
       "      <td>90.61</td>\n",
       "      <td>94.000</td>\n",
       "      <td>90.40</td>\n",
       "      <td>93.78</td>\n",
       "      <td>55031149.0</td>\n",
       "      <td>0.0</td>\n",
       "      <td>1.0</td>\n",
       "      <td>90.61</td>\n",
       "      <td>94.000</td>\n",
       "      <td>90.40</td>\n",
       "      <td>93.78</td>\n",
       "      <td>55031149.0</td>\n",
       "    </tr>\n",
       "    <tr>\n",
       "      <th>2018-03-23</th>\n",
       "      <td>89.50</td>\n",
       "      <td>90.460</td>\n",
       "      <td>87.08</td>\n",
       "      <td>87.18</td>\n",
       "      <td>42159397.0</td>\n",
       "      <td>0.0</td>\n",
       "      <td>1.0</td>\n",
       "      <td>89.50</td>\n",
       "      <td>90.460</td>\n",
       "      <td>87.08</td>\n",
       "      <td>87.18</td>\n",
       "      <td>42159397.0</td>\n",
       "    </tr>\n",
       "  </tbody>\n",
       "</table>\n",
       "</div>"
      ],
      "text/plain": [
       "             Open    High    Low  Close      Volume  ExDividend  SplitRatio  \\\n",
       "Date                                                                          \n",
       "2018-03-27  94.94  95.139  88.51  89.47  53704562.0         0.0         1.0   \n",
       "2018-03-26  90.61  94.000  90.40  93.78  55031149.0         0.0         1.0   \n",
       "2018-03-23  89.50  90.460  87.08  87.18  42159397.0         0.0         1.0   \n",
       "\n",
       "            AdjOpen  AdjHigh  AdjLow  AdjClose   AdjVolume  \n",
       "Date                                                        \n",
       "2018-03-27    94.94   95.139   88.51     89.47  53704562.0  \n",
       "2018-03-26    90.61   94.000   90.40     93.78  55031149.0  \n",
       "2018-03-23    89.50   90.460   87.08     87.18  42159397.0  "
      ]
     },
     "execution_count": 13,
     "metadata": {},
     "output_type": "execute_result"
    }
   ],
   "source": [
    "stocks = data.DataReader(\"MSFT\" , \"quandl\", start = \"2000-01-01\" ,end = \"2018-06-27\",access_key = \"ZyBDvgzoPnsjo8b-M4s5\")\n",
    "stocks.head(3)"
   ]
  },
  {
   "cell_type": "code",
   "execution_count": 10,
   "metadata": {},
   "outputs": [
    {
     "data": {
      "text/html": [
       "<div>\n",
       "<style scoped>\n",
       "    .dataframe tbody tr th:only-of-type {\n",
       "        vertical-align: middle;\n",
       "    }\n",
       "\n",
       "    .dataframe tbody tr th {\n",
       "        vertical-align: top;\n",
       "    }\n",
       "\n",
       "    .dataframe thead th {\n",
       "        text-align: right;\n",
       "    }\n",
       "</style>\n",
       "<table border=\"1\" class=\"dataframe\">\n",
       "  <thead>\n",
       "    <tr style=\"text-align: right;\">\n",
       "      <th></th>\n",
       "      <th>Open</th>\n",
       "      <th>High</th>\n",
       "      <th>Low</th>\n",
       "      <th>Close</th>\n",
       "      <th>Volume</th>\n",
       "      <th>ExDividend</th>\n",
       "      <th>SplitRatio</th>\n",
       "      <th>AdjOpen</th>\n",
       "      <th>AdjHigh</th>\n",
       "      <th>AdjLow</th>\n",
       "      <th>AdjClose</th>\n",
       "      <th>AdjVolume</th>\n",
       "    </tr>\n",
       "    <tr>\n",
       "      <th>Date</th>\n",
       "      <th></th>\n",
       "      <th></th>\n",
       "      <th></th>\n",
       "      <th></th>\n",
       "      <th></th>\n",
       "      <th></th>\n",
       "      <th></th>\n",
       "      <th></th>\n",
       "      <th></th>\n",
       "      <th></th>\n",
       "      <th></th>\n",
       "      <th></th>\n",
       "    </tr>\n",
       "  </thead>\n",
       "  <tbody>\n",
       "    <tr>\n",
       "      <th>2014-03-31</th>\n",
       "      <td>566.89</td>\n",
       "      <td>567.00</td>\n",
       "      <td>556.93</td>\n",
       "      <td>556.97</td>\n",
       "      <td>10800.0</td>\n",
       "      <td>0.0</td>\n",
       "      <td>1.0</td>\n",
       "      <td>566.89</td>\n",
       "      <td>567.00</td>\n",
       "      <td>556.93</td>\n",
       "      <td>556.97</td>\n",
       "      <td>10800.0</td>\n",
       "    </tr>\n",
       "    <tr>\n",
       "      <th>2014-03-28</th>\n",
       "      <td>561.20</td>\n",
       "      <td>566.43</td>\n",
       "      <td>558.67</td>\n",
       "      <td>559.99</td>\n",
       "      <td>41100.0</td>\n",
       "      <td>0.0</td>\n",
       "      <td>1.0</td>\n",
       "      <td>561.20</td>\n",
       "      <td>566.43</td>\n",
       "      <td>558.67</td>\n",
       "      <td>559.99</td>\n",
       "      <td>41100.0</td>\n",
       "    </tr>\n",
       "    <tr>\n",
       "      <th>2014-03-27</th>\n",
       "      <td>568.00</td>\n",
       "      <td>568.00</td>\n",
       "      <td>552.92</td>\n",
       "      <td>558.46</td>\n",
       "      <td>13100.0</td>\n",
       "      <td>0.0</td>\n",
       "      <td>1.0</td>\n",
       "      <td>568.00</td>\n",
       "      <td>568.00</td>\n",
       "      <td>552.92</td>\n",
       "      <td>558.46</td>\n",
       "      <td>13100.0</td>\n",
       "    </tr>\n",
       "  </tbody>\n",
       "</table>\n",
       "</div>"
      ],
      "text/plain": [
       "              Open    High     Low   Close   Volume  ExDividend  SplitRatio  \\\n",
       "Date                                                                          \n",
       "2014-03-31  566.89  567.00  556.93  556.97  10800.0         0.0         1.0   \n",
       "2014-03-28  561.20  566.43  558.67  559.99  41100.0         0.0         1.0   \n",
       "2014-03-27  568.00  568.00  552.92  558.46  13100.0         0.0         1.0   \n",
       "\n",
       "            AdjOpen  AdjHigh  AdjLow  AdjClose  AdjVolume  \n",
       "Date                                                       \n",
       "2014-03-31   566.89   567.00  556.93    556.97    10800.0  \n",
       "2014-03-28   561.20   566.43  558.67    559.99    41100.0  \n",
       "2014-03-27   568.00   568.00  552.92    558.46    13100.0  "
      ]
     },
     "execution_count": 10,
     "metadata": {},
     "output_type": "execute_result"
    }
   ],
   "source": [
    "stocks.tail(3)"
   ]
  },
  {
   "cell_type": "code",
   "execution_count": 19,
   "metadata": {},
   "outputs": [
    {
     "data": {
      "text/html": [
       "<div>\n",
       "<style scoped>\n",
       "    .dataframe tbody tr th:only-of-type {\n",
       "        vertical-align: middle;\n",
       "    }\n",
       "\n",
       "    .dataframe tbody tr th {\n",
       "        vertical-align: top;\n",
       "    }\n",
       "\n",
       "    .dataframe thead th {\n",
       "        text-align: right;\n",
       "    }\n",
       "</style>\n",
       "<table border=\"1\" class=\"dataframe\">\n",
       "  <thead>\n",
       "    <tr style=\"text-align: right;\">\n",
       "      <th></th>\n",
       "      <th></th>\n",
       "      <th>Close</th>\n",
       "      <th>High</th>\n",
       "      <th>Low</th>\n",
       "      <th>Open</th>\n",
       "      <th>Volume</th>\n",
       "    </tr>\n",
       "    <tr>\n",
       "      <th>Symbol</th>\n",
       "      <th>Date</th>\n",
       "      <th></th>\n",
       "      <th></th>\n",
       "      <th></th>\n",
       "      <th></th>\n",
       "      <th></th>\n",
       "    </tr>\n",
       "  </thead>\n",
       "  <tbody>\n",
       "    <tr>\n",
       "      <th rowspan=\"3\" valign=\"top\">GOOG</th>\n",
       "      <th>2018-06-22</th>\n",
       "      <td>1155.48</td>\n",
       "      <td>1162.4965</td>\n",
       "      <td>1147.2600</td>\n",
       "      <td>1159.14</td>\n",
       "      <td>1310967</td>\n",
       "    </tr>\n",
       "    <tr>\n",
       "      <th>2018-06-25</th>\n",
       "      <td>1124.81</td>\n",
       "      <td>1143.9100</td>\n",
       "      <td>1112.7800</td>\n",
       "      <td>1143.60</td>\n",
       "      <td>2157310</td>\n",
       "    </tr>\n",
       "    <tr>\n",
       "      <th>2018-06-26</th>\n",
       "      <td>1118.46</td>\n",
       "      <td>1133.2100</td>\n",
       "      <td>1116.6589</td>\n",
       "      <td>1128.00</td>\n",
       "      <td>1586841</td>\n",
       "    </tr>\n",
       "  </tbody>\n",
       "</table>\n",
       "</div>"
      ],
      "text/plain": [
       "                     Close       High        Low     Open   Volume\n",
       "Symbol Date                                                       \n",
       "GOOG   2018-06-22  1155.48  1162.4965  1147.2600  1159.14  1310967\n",
       "       2018-06-25  1124.81  1143.9100  1112.7800  1143.60  2157310\n",
       "       2018-06-26  1118.46  1133.2100  1116.6589  1128.00  1586841"
      ]
     },
     "execution_count": 19,
     "metadata": {},
     "output_type": "execute_result"
    }
   ],
   "source": [
    "stocks = data.DataReader(\"GOOG\" , \"morningstar\", start = \"2000-01-01\" , end = dt.datetime.now())\n",
    "stocks.tail(3)"
   ]
  },
  {
   "cell_type": "code",
   "execution_count": 21,
   "metadata": {},
   "outputs": [
    {
     "data": {
      "text/html": [
       "<div>\n",
       "<style scoped>\n",
       "    .dataframe tbody tr th:only-of-type {\n",
       "        vertical-align: middle;\n",
       "    }\n",
       "\n",
       "    .dataframe tbody tr th {\n",
       "        vertical-align: top;\n",
       "    }\n",
       "\n",
       "    .dataframe thead th {\n",
       "        text-align: right;\n",
       "    }\n",
       "</style>\n",
       "<table border=\"1\" class=\"dataframe\">\n",
       "  <thead>\n",
       "    <tr style=\"text-align: right;\">\n",
       "      <th></th>\n",
       "      <th></th>\n",
       "      <th>Close</th>\n",
       "      <th>High</th>\n",
       "      <th>Low</th>\n",
       "      <th>Open</th>\n",
       "      <th>Volume</th>\n",
       "    </tr>\n",
       "    <tr>\n",
       "      <th>Symbol</th>\n",
       "      <th>Date</th>\n",
       "      <th></th>\n",
       "      <th></th>\n",
       "      <th></th>\n",
       "      <th></th>\n",
       "      <th></th>\n",
       "    </tr>\n",
       "  </thead>\n",
       "  <tbody>\n",
       "    <tr>\n",
       "      <th rowspan=\"3\" valign=\"top\">GOOG</th>\n",
       "      <th>2018-06-22</th>\n",
       "      <td>1155.48</td>\n",
       "      <td>1162.4965</td>\n",
       "      <td>1147.2600</td>\n",
       "      <td>1159.14</td>\n",
       "      <td>1310967</td>\n",
       "    </tr>\n",
       "    <tr>\n",
       "      <th>2018-06-25</th>\n",
       "      <td>1124.81</td>\n",
       "      <td>1143.9100</td>\n",
       "      <td>1112.7800</td>\n",
       "      <td>1143.60</td>\n",
       "      <td>2157310</td>\n",
       "    </tr>\n",
       "    <tr>\n",
       "      <th>2018-06-26</th>\n",
       "      <td>1118.46</td>\n",
       "      <td>1133.2100</td>\n",
       "      <td>1116.6589</td>\n",
       "      <td>1128.00</td>\n",
       "      <td>1586841</td>\n",
       "    </tr>\n",
       "  </tbody>\n",
       "</table>\n",
       "</div>"
      ],
      "text/plain": [
       "                     Close       High        Low     Open   Volume\n",
       "Symbol Date                                                       \n",
       "GOOG   2018-06-22  1155.48  1162.4965  1147.2600  1159.14  1310967\n",
       "       2018-06-25  1124.81  1143.9100  1112.7800  1143.60  2157310\n",
       "       2018-06-26  1118.46  1133.2100  1116.6589  1128.00  1586841"
      ]
     },
     "execution_count": 21,
     "metadata": {},
     "output_type": "execute_result"
    }
   ],
   "source": [
    "stocks = data.DataReader(\"GOOG\" , \"morningstar\", start = \"2000-01-01\" , end = \"2018-06-27\")\n",
    "stocks.tail(3)"
   ]
  },
  {
   "cell_type": "markdown",
   "metadata": {},
   "source": [
    "### pd.DataOffset Objects"
   ]
  },
  {
   "cell_type": "code",
   "execution_count": 26,
   "metadata": {},
   "outputs": [
    {
     "data": {
      "text/html": [
       "<div>\n",
       "<style scoped>\n",
       "    .dataframe tbody tr th:only-of-type {\n",
       "        vertical-align: middle;\n",
       "    }\n",
       "\n",
       "    .dataframe tbody tr th {\n",
       "        vertical-align: top;\n",
       "    }\n",
       "\n",
       "    .dataframe thead th {\n",
       "        text-align: right;\n",
       "    }\n",
       "</style>\n",
       "<table border=\"1\" class=\"dataframe\">\n",
       "  <thead>\n",
       "    <tr style=\"text-align: right;\">\n",
       "      <th></th>\n",
       "      <th>Open</th>\n",
       "      <th>High</th>\n",
       "      <th>Low</th>\n",
       "      <th>Close</th>\n",
       "      <th>Volume</th>\n",
       "      <th>ExDividend</th>\n",
       "      <th>SplitRatio</th>\n",
       "      <th>AdjOpen</th>\n",
       "      <th>AdjHigh</th>\n",
       "      <th>AdjLow</th>\n",
       "      <th>AdjClose</th>\n",
       "      <th>AdjVolume</th>\n",
       "    </tr>\n",
       "    <tr>\n",
       "      <th>Date</th>\n",
       "      <th></th>\n",
       "      <th></th>\n",
       "      <th></th>\n",
       "      <th></th>\n",
       "      <th></th>\n",
       "      <th></th>\n",
       "      <th></th>\n",
       "      <th></th>\n",
       "      <th></th>\n",
       "      <th></th>\n",
       "      <th></th>\n",
       "      <th></th>\n",
       "    </tr>\n",
       "  </thead>\n",
       "  <tbody>\n",
       "    <tr>\n",
       "      <th>2018-03-27</th>\n",
       "      <td>94.94</td>\n",
       "      <td>95.139</td>\n",
       "      <td>88.51</td>\n",
       "      <td>89.47</td>\n",
       "      <td>53704562.0</td>\n",
       "      <td>0.0</td>\n",
       "      <td>1.0</td>\n",
       "      <td>94.94</td>\n",
       "      <td>95.139</td>\n",
       "      <td>88.51</td>\n",
       "      <td>89.47</td>\n",
       "      <td>53704562.0</td>\n",
       "    </tr>\n",
       "    <tr>\n",
       "      <th>2018-03-26</th>\n",
       "      <td>90.61</td>\n",
       "      <td>94.000</td>\n",
       "      <td>90.40</td>\n",
       "      <td>93.78</td>\n",
       "      <td>55031149.0</td>\n",
       "      <td>0.0</td>\n",
       "      <td>1.0</td>\n",
       "      <td>90.61</td>\n",
       "      <td>94.000</td>\n",
       "      <td>90.40</td>\n",
       "      <td>93.78</td>\n",
       "      <td>55031149.0</td>\n",
       "    </tr>\n",
       "    <tr>\n",
       "      <th>2018-03-23</th>\n",
       "      <td>89.50</td>\n",
       "      <td>90.460</td>\n",
       "      <td>87.08</td>\n",
       "      <td>87.18</td>\n",
       "      <td>42159397.0</td>\n",
       "      <td>0.0</td>\n",
       "      <td>1.0</td>\n",
       "      <td>89.50</td>\n",
       "      <td>90.460</td>\n",
       "      <td>87.08</td>\n",
       "      <td>87.18</td>\n",
       "      <td>42159397.0</td>\n",
       "    </tr>\n",
       "  </tbody>\n",
       "</table>\n",
       "</div>"
      ],
      "text/plain": [
       "             Open    High    Low  Close      Volume  ExDividend  SplitRatio  \\\n",
       "Date                                                                          \n",
       "2018-03-27  94.94  95.139  88.51  89.47  53704562.0         0.0         1.0   \n",
       "2018-03-26  90.61  94.000  90.40  93.78  55031149.0         0.0         1.0   \n",
       "2018-03-23  89.50  90.460  87.08  87.18  42159397.0         0.0         1.0   \n",
       "\n",
       "            AdjOpen  AdjHigh  AdjLow  AdjClose   AdjVolume  \n",
       "Date                                                        \n",
       "2018-03-27    94.94   95.139   88.51     89.47  53704562.0  \n",
       "2018-03-26    90.61   94.000   90.40     93.78  55031149.0  \n",
       "2018-03-23    89.50   90.460   87.08     87.18  42159397.0  "
      ]
     },
     "execution_count": 26,
     "metadata": {},
     "output_type": "execute_result"
    }
   ],
   "source": [
    "stocks = data.DataReader(\"MSFT\" , \"quandl\", start = \"2000-01-01\" ,end = \"2018-06-27\",access_key = \"ZyBDvgzoPnsjo8b-M4s5\")\n",
    "stocks.head(3)"
   ]
  },
  {
   "cell_type": "code",
   "execution_count": 27,
   "metadata": {},
   "outputs": [
    {
     "data": {
      "text/plain": [
       "Index(['Open', 'High', 'Low', 'Close', 'Volume', 'ExDividend', 'SplitRatio',\n",
       "       'AdjOpen', 'AdjHigh', 'AdjLow', 'AdjClose', 'AdjVolume'],\n",
       "      dtype='object')"
      ]
     },
     "execution_count": 27,
     "metadata": {},
     "output_type": "execute_result"
    }
   ],
   "source": [
    "stocks.columns"
   ]
  },
  {
   "cell_type": "code",
   "execution_count": 34,
   "metadata": {},
   "outputs": [
    {
     "data": {
      "text/plain": [
       "DatetimeIndex(['2018-03-31', '2018-03-30', '2018-03-27', '2018-03-26',\n",
       "               '2018-03-25', '2018-03-24', '2018-03-23', '2018-03-20',\n",
       "               '2018-03-19', '2018-03-18',\n",
       "               ...\n",
       "               '2000-01-18', '2000-01-17', '2000-01-16', '2000-01-15',\n",
       "               '2000-01-14', '2000-01-11', '2000-01-10', '2000-01-09',\n",
       "               '2000-01-08', '2000-01-07'],\n",
       "              dtype='datetime64[ns]', name='Date', length=4586, freq=None)"
      ]
     },
     "execution_count": 34,
     "metadata": {},
     "output_type": "execute_result"
    }
   ],
   "source": [
    "stocks.index + pd.DateOffset(days = 2)\n",
    "# all date will be added 2 days , here temporary saved"
   ]
  },
  {
   "cell_type": "code",
   "execution_count": 31,
   "metadata": {},
   "outputs": [
    {
     "data": {
      "text/html": [
       "<div>\n",
       "<style scoped>\n",
       "    .dataframe tbody tr th:only-of-type {\n",
       "        vertical-align: middle;\n",
       "    }\n",
       "\n",
       "    .dataframe tbody tr th {\n",
       "        vertical-align: top;\n",
       "    }\n",
       "\n",
       "    .dataframe thead th {\n",
       "        text-align: right;\n",
       "    }\n",
       "</style>\n",
       "<table border=\"1\" class=\"dataframe\">\n",
       "  <thead>\n",
       "    <tr style=\"text-align: right;\">\n",
       "      <th></th>\n",
       "      <th>Open</th>\n",
       "      <th>High</th>\n",
       "      <th>Low</th>\n",
       "      <th>Close</th>\n",
       "      <th>Volume</th>\n",
       "      <th>ExDividend</th>\n",
       "      <th>SplitRatio</th>\n",
       "      <th>AdjOpen</th>\n",
       "      <th>AdjHigh</th>\n",
       "      <th>AdjLow</th>\n",
       "      <th>AdjClose</th>\n",
       "      <th>AdjVolume</th>\n",
       "    </tr>\n",
       "    <tr>\n",
       "      <th>Date</th>\n",
       "      <th></th>\n",
       "      <th></th>\n",
       "      <th></th>\n",
       "      <th></th>\n",
       "      <th></th>\n",
       "      <th></th>\n",
       "      <th></th>\n",
       "      <th></th>\n",
       "      <th></th>\n",
       "      <th></th>\n",
       "      <th></th>\n",
       "      <th></th>\n",
       "    </tr>\n",
       "  </thead>\n",
       "  <tbody>\n",
       "    <tr>\n",
       "      <th>2018-03-27</th>\n",
       "      <td>94.94</td>\n",
       "      <td>95.139</td>\n",
       "      <td>88.51</td>\n",
       "      <td>89.47</td>\n",
       "      <td>53704562.0</td>\n",
       "      <td>0.0</td>\n",
       "      <td>1.0</td>\n",
       "      <td>94.94</td>\n",
       "      <td>95.139</td>\n",
       "      <td>88.51</td>\n",
       "      <td>89.47</td>\n",
       "      <td>53704562.0</td>\n",
       "    </tr>\n",
       "    <tr>\n",
       "      <th>2018-03-26</th>\n",
       "      <td>90.61</td>\n",
       "      <td>94.000</td>\n",
       "      <td>90.40</td>\n",
       "      <td>93.78</td>\n",
       "      <td>55031149.0</td>\n",
       "      <td>0.0</td>\n",
       "      <td>1.0</td>\n",
       "      <td>90.61</td>\n",
       "      <td>94.000</td>\n",
       "      <td>90.40</td>\n",
       "      <td>93.78</td>\n",
       "      <td>55031149.0</td>\n",
       "    </tr>\n",
       "    <tr>\n",
       "      <th>2018-03-23</th>\n",
       "      <td>89.50</td>\n",
       "      <td>90.460</td>\n",
       "      <td>87.08</td>\n",
       "      <td>87.18</td>\n",
       "      <td>42159397.0</td>\n",
       "      <td>0.0</td>\n",
       "      <td>1.0</td>\n",
       "      <td>89.50</td>\n",
       "      <td>90.460</td>\n",
       "      <td>87.08</td>\n",
       "      <td>87.18</td>\n",
       "      <td>42159397.0</td>\n",
       "    </tr>\n",
       "  </tbody>\n",
       "</table>\n",
       "</div>"
      ],
      "text/plain": [
       "             Open    High    Low  Close      Volume  ExDividend  SplitRatio  \\\n",
       "Date                                                                          \n",
       "2018-03-27  94.94  95.139  88.51  89.47  53704562.0         0.0         1.0   \n",
       "2018-03-26  90.61  94.000  90.40  93.78  55031149.0         0.0         1.0   \n",
       "2018-03-23  89.50  90.460  87.08  87.18  42159397.0         0.0         1.0   \n",
       "\n",
       "            AdjOpen  AdjHigh  AdjLow  AdjClose   AdjVolume  \n",
       "Date                                                        \n",
       "2018-03-27    94.94   95.139   88.51     89.47  53704562.0  \n",
       "2018-03-26    90.61   94.000   90.40     93.78  55031149.0  \n",
       "2018-03-23    89.50   90.460   87.08     87.18  42159397.0  "
      ]
     },
     "execution_count": 31,
     "metadata": {},
     "output_type": "execute_result"
    }
   ],
   "source": [
    "stocks.head(3)"
   ]
  },
  {
   "cell_type": "code",
   "execution_count": 32,
   "metadata": {},
   "outputs": [],
   "source": [
    "stocks.index = stocks.index + pd.DateOffset(days = 2)\n",
    "# all date will be added 2 days , here parmanently saved"
   ]
  },
  {
   "cell_type": "code",
   "execution_count": 35,
   "metadata": {},
   "outputs": [
    {
     "data": {
      "text/html": [
       "<div>\n",
       "<style scoped>\n",
       "    .dataframe tbody tr th:only-of-type {\n",
       "        vertical-align: middle;\n",
       "    }\n",
       "\n",
       "    .dataframe tbody tr th {\n",
       "        vertical-align: top;\n",
       "    }\n",
       "\n",
       "    .dataframe thead th {\n",
       "        text-align: right;\n",
       "    }\n",
       "</style>\n",
       "<table border=\"1\" class=\"dataframe\">\n",
       "  <thead>\n",
       "    <tr style=\"text-align: right;\">\n",
       "      <th></th>\n",
       "      <th>Open</th>\n",
       "      <th>High</th>\n",
       "      <th>Low</th>\n",
       "      <th>Close</th>\n",
       "      <th>Volume</th>\n",
       "      <th>ExDividend</th>\n",
       "      <th>SplitRatio</th>\n",
       "      <th>AdjOpen</th>\n",
       "      <th>AdjHigh</th>\n",
       "      <th>AdjLow</th>\n",
       "      <th>AdjClose</th>\n",
       "      <th>AdjVolume</th>\n",
       "    </tr>\n",
       "    <tr>\n",
       "      <th>Date</th>\n",
       "      <th></th>\n",
       "      <th></th>\n",
       "      <th></th>\n",
       "      <th></th>\n",
       "      <th></th>\n",
       "      <th></th>\n",
       "      <th></th>\n",
       "      <th></th>\n",
       "      <th></th>\n",
       "      <th></th>\n",
       "      <th></th>\n",
       "      <th></th>\n",
       "    </tr>\n",
       "  </thead>\n",
       "  <tbody>\n",
       "    <tr>\n",
       "      <th>2018-03-29</th>\n",
       "      <td>94.94</td>\n",
       "      <td>95.139</td>\n",
       "      <td>88.51</td>\n",
       "      <td>89.47</td>\n",
       "      <td>53704562.0</td>\n",
       "      <td>0.0</td>\n",
       "      <td>1.0</td>\n",
       "      <td>94.94</td>\n",
       "      <td>95.139</td>\n",
       "      <td>88.51</td>\n",
       "      <td>89.47</td>\n",
       "      <td>53704562.0</td>\n",
       "    </tr>\n",
       "    <tr>\n",
       "      <th>2018-03-28</th>\n",
       "      <td>90.61</td>\n",
       "      <td>94.000</td>\n",
       "      <td>90.40</td>\n",
       "      <td>93.78</td>\n",
       "      <td>55031149.0</td>\n",
       "      <td>0.0</td>\n",
       "      <td>1.0</td>\n",
       "      <td>90.61</td>\n",
       "      <td>94.000</td>\n",
       "      <td>90.40</td>\n",
       "      <td>93.78</td>\n",
       "      <td>55031149.0</td>\n",
       "    </tr>\n",
       "    <tr>\n",
       "      <th>2018-03-25</th>\n",
       "      <td>89.50</td>\n",
       "      <td>90.460</td>\n",
       "      <td>87.08</td>\n",
       "      <td>87.18</td>\n",
       "      <td>42159397.0</td>\n",
       "      <td>0.0</td>\n",
       "      <td>1.0</td>\n",
       "      <td>89.50</td>\n",
       "      <td>90.460</td>\n",
       "      <td>87.08</td>\n",
       "      <td>87.18</td>\n",
       "      <td>42159397.0</td>\n",
       "    </tr>\n",
       "  </tbody>\n",
       "</table>\n",
       "</div>"
      ],
      "text/plain": [
       "             Open    High    Low  Close      Volume  ExDividend  SplitRatio  \\\n",
       "Date                                                                          \n",
       "2018-03-29  94.94  95.139  88.51  89.47  53704562.0         0.0         1.0   \n",
       "2018-03-28  90.61  94.000  90.40  93.78  55031149.0         0.0         1.0   \n",
       "2018-03-25  89.50  90.460  87.08  87.18  42159397.0         0.0         1.0   \n",
       "\n",
       "            AdjOpen  AdjHigh  AdjLow  AdjClose   AdjVolume  \n",
       "Date                                                        \n",
       "2018-03-29    94.94   95.139   88.51     89.47  53704562.0  \n",
       "2018-03-28    90.61   94.000   90.40     93.78  55031149.0  \n",
       "2018-03-25    89.50   90.460   87.08     87.18  42159397.0  "
      ]
     },
     "execution_count": 35,
     "metadata": {},
     "output_type": "execute_result"
    }
   ],
   "source": [
    "stocks.head(3)"
   ]
  },
  {
   "cell_type": "code",
   "execution_count": 36,
   "metadata": {},
   "outputs": [
    {
     "data": {
      "text/plain": [
       "DatetimeIndex(['2018-04-29', '2018-04-28', '2018-04-25', '2018-04-24',\n",
       "               '2018-04-23', '2018-04-22', '2018-04-21', '2018-04-18',\n",
       "               '2018-04-17', '2018-04-16',\n",
       "               ...\n",
       "               '2000-02-16', '2000-02-15', '2000-02-14', '2000-02-13',\n",
       "               '2000-02-12', '2000-02-09', '2000-02-08', '2000-02-07',\n",
       "               '2000-02-06', '2000-02-05'],\n",
       "              dtype='datetime64[ns]', name='Date', length=4586, freq=None)"
      ]
     },
     "execution_count": 36,
     "metadata": {},
     "output_type": "execute_result"
    }
   ],
   "source": [
    "stocks.index + pd.DateOffset(months = 1) # temporary "
   ]
  },
  {
   "cell_type": "code",
   "execution_count": 38,
   "metadata": {},
   "outputs": [
    {
     "data": {
      "text/plain": [
       "DatetimeIndex(['2019-03-29', '2019-03-28', '2019-03-25', '2019-03-24',\n",
       "               '2019-03-23', '2019-03-22', '2019-03-21', '2019-03-18',\n",
       "               '2019-03-17', '2019-03-16',\n",
       "               ...\n",
       "               '2001-01-16', '2001-01-15', '2001-01-14', '2001-01-13',\n",
       "               '2001-01-12', '2001-01-09', '2001-01-08', '2001-01-07',\n",
       "               '2001-01-06', '2001-01-05'],\n",
       "              dtype='datetime64[ns]', name='Date', length=4586, freq=None)"
      ]
     },
     "execution_count": 38,
     "metadata": {},
     "output_type": "execute_result"
    }
   ],
   "source": [
    "stocks.index + pd.DateOffset(years = 1)  # temporary "
   ]
  },
  {
   "cell_type": "code",
   "execution_count": 40,
   "metadata": {},
   "outputs": [
    {
     "data": {
      "text/plain": [
       "DatetimeIndex(['2018-03-29 02:00:00', '2018-03-28 02:00:00',\n",
       "               '2018-03-25 02:00:00', '2018-03-24 02:00:00',\n",
       "               '2018-03-23 02:00:00', '2018-03-22 02:00:00',\n",
       "               '2018-03-21 02:00:00', '2018-03-18 02:00:00',\n",
       "               '2018-03-17 02:00:00', '2018-03-16 02:00:00',\n",
       "               ...\n",
       "               '2000-01-16 02:00:00', '2000-01-15 02:00:00',\n",
       "               '2000-01-14 02:00:00', '2000-01-13 02:00:00',\n",
       "               '2000-01-12 02:00:00', '2000-01-09 02:00:00',\n",
       "               '2000-01-08 02:00:00', '2000-01-07 02:00:00',\n",
       "               '2000-01-06 02:00:00', '2000-01-05 02:00:00'],\n",
       "              dtype='datetime64[ns]', name='Date', length=4586, freq=None)"
      ]
     },
     "execution_count": 40,
     "metadata": {},
     "output_type": "execute_result"
    }
   ],
   "source": [
    "stocks.index + pd.DateOffset(hours = 2) # 2 hours added"
   ]
  },
  {
   "cell_type": "code",
   "execution_count": 41,
   "metadata": {},
   "outputs": [
    {
     "data": {
      "text/plain": [
       "DatetimeIndex(['2018-03-29 02:10:20', '2018-03-28 02:10:20',\n",
       "               '2018-03-25 02:10:20', '2018-03-24 02:10:20',\n",
       "               '2018-03-23 02:10:20', '2018-03-22 02:10:20',\n",
       "               '2018-03-21 02:10:20', '2018-03-18 02:10:20',\n",
       "               '2018-03-17 02:10:20', '2018-03-16 02:10:20',\n",
       "               ...\n",
       "               '2000-01-16 02:10:20', '2000-01-15 02:10:20',\n",
       "               '2000-01-14 02:10:20', '2000-01-13 02:10:20',\n",
       "               '2000-01-12 02:10:20', '2000-01-09 02:10:20',\n",
       "               '2000-01-08 02:10:20', '2000-01-07 02:10:20',\n",
       "               '2000-01-06 02:10:20', '2000-01-05 02:10:20'],\n",
       "              dtype='datetime64[ns]', name='Date', length=4586, freq=None)"
      ]
     },
     "execution_count": 41,
     "metadata": {},
     "output_type": "execute_result"
    }
   ],
   "source": [
    "stocks.index  + pd.DateOffset(hours = 2 , minutes = 10 , seconds = 20)"
   ]
  },
  {
   "cell_type": "code",
   "execution_count": 42,
   "metadata": {},
   "outputs": [
    {
     "data": {
      "text/plain": [
       "DatetimeIndex(['2018-03-26', '2018-03-25', '2018-03-22', '2018-03-21',\n",
       "               '2018-03-20', '2018-03-19', '2018-03-18', '2018-03-15',\n",
       "               '2018-03-14', '2018-03-13',\n",
       "               ...\n",
       "               '2000-01-13', '2000-01-12', '2000-01-11', '2000-01-10',\n",
       "               '2000-01-09', '2000-01-06', '2000-01-05', '2000-01-04',\n",
       "               '2000-01-03', '2000-01-02'],\n",
       "              dtype='datetime64[ns]', name='Date', length=4586, freq=None)"
      ]
     },
     "execution_count": 42,
     "metadata": {},
     "output_type": "execute_result"
    }
   ],
   "source": [
    "stocks.index - pd.DateOffset(days = 3)"
   ]
  },
  {
   "cell_type": "code",
   "execution_count": 43,
   "metadata": {},
   "outputs": [
    {
     "data": {
      "text/plain": [
       "DatetimeIndex(['2018-03-28 20:00:00', '2018-03-27 20:00:00',\n",
       "               '2018-03-24 20:00:00', '2018-03-23 20:00:00',\n",
       "               '2018-03-22 20:00:00', '2018-03-21 20:00:00',\n",
       "               '2018-03-20 20:00:00', '2018-03-17 20:00:00',\n",
       "               '2018-03-16 20:00:00', '2018-03-15 20:00:00',\n",
       "               ...\n",
       "               '2000-01-15 20:00:00', '2000-01-14 20:00:00',\n",
       "               '2000-01-13 20:00:00', '2000-01-12 20:00:00',\n",
       "               '2000-01-11 20:00:00', '2000-01-08 20:00:00',\n",
       "               '2000-01-07 20:00:00', '2000-01-06 20:00:00',\n",
       "               '2000-01-05 20:00:00', '2000-01-04 20:00:00'],\n",
       "              dtype='datetime64[ns]', name='Date', length=4586, freq=None)"
      ]
     },
     "execution_count": 43,
     "metadata": {},
     "output_type": "execute_result"
    }
   ],
   "source": [
    "stocks.index - pd.DateOffset(hours = 4)"
   ]
  },
  {
   "cell_type": "markdown",
   "metadata": {},
   "source": [
    "### More with pd.DataOffset objects"
   ]
  },
  {
   "cell_type": "code",
   "execution_count": 45,
   "metadata": {},
   "outputs": [
    {
     "data": {
      "text/html": [
       "<div>\n",
       "<style scoped>\n",
       "    .dataframe tbody tr th:only-of-type {\n",
       "        vertical-align: middle;\n",
       "    }\n",
       "\n",
       "    .dataframe tbody tr th {\n",
       "        vertical-align: top;\n",
       "    }\n",
       "\n",
       "    .dataframe thead th {\n",
       "        text-align: right;\n",
       "    }\n",
       "</style>\n",
       "<table border=\"1\" class=\"dataframe\">\n",
       "  <thead>\n",
       "    <tr style=\"text-align: right;\">\n",
       "      <th></th>\n",
       "      <th>Open</th>\n",
       "      <th>High</th>\n",
       "      <th>Low</th>\n",
       "      <th>Close</th>\n",
       "      <th>Volume</th>\n",
       "      <th>ExDividend</th>\n",
       "      <th>SplitRatio</th>\n",
       "      <th>AdjOpen</th>\n",
       "      <th>AdjHigh</th>\n",
       "      <th>AdjLow</th>\n",
       "      <th>AdjClose</th>\n",
       "      <th>AdjVolume</th>\n",
       "    </tr>\n",
       "    <tr>\n",
       "      <th>Date</th>\n",
       "      <th></th>\n",
       "      <th></th>\n",
       "      <th></th>\n",
       "      <th></th>\n",
       "      <th></th>\n",
       "      <th></th>\n",
       "      <th></th>\n",
       "      <th></th>\n",
       "      <th></th>\n",
       "      <th></th>\n",
       "      <th></th>\n",
       "      <th></th>\n",
       "    </tr>\n",
       "  </thead>\n",
       "  <tbody>\n",
       "    <tr>\n",
       "      <th>2018-03-29</th>\n",
       "      <td>94.94</td>\n",
       "      <td>95.139</td>\n",
       "      <td>88.51</td>\n",
       "      <td>89.47</td>\n",
       "      <td>53704562.0</td>\n",
       "      <td>0.0</td>\n",
       "      <td>1.0</td>\n",
       "      <td>94.94</td>\n",
       "      <td>95.139</td>\n",
       "      <td>88.51</td>\n",
       "      <td>89.47</td>\n",
       "      <td>53704562.0</td>\n",
       "    </tr>\n",
       "    <tr>\n",
       "      <th>2018-03-28</th>\n",
       "      <td>90.61</td>\n",
       "      <td>94.000</td>\n",
       "      <td>90.40</td>\n",
       "      <td>93.78</td>\n",
       "      <td>55031149.0</td>\n",
       "      <td>0.0</td>\n",
       "      <td>1.0</td>\n",
       "      <td>90.61</td>\n",
       "      <td>94.000</td>\n",
       "      <td>90.40</td>\n",
       "      <td>93.78</td>\n",
       "      <td>55031149.0</td>\n",
       "    </tr>\n",
       "    <tr>\n",
       "      <th>2018-03-25</th>\n",
       "      <td>89.50</td>\n",
       "      <td>90.460</td>\n",
       "      <td>87.08</td>\n",
       "      <td>87.18</td>\n",
       "      <td>42159397.0</td>\n",
       "      <td>0.0</td>\n",
       "      <td>1.0</td>\n",
       "      <td>89.50</td>\n",
       "      <td>90.460</td>\n",
       "      <td>87.08</td>\n",
       "      <td>87.18</td>\n",
       "      <td>42159397.0</td>\n",
       "    </tr>\n",
       "  </tbody>\n",
       "</table>\n",
       "</div>"
      ],
      "text/plain": [
       "             Open    High    Low  Close      Volume  ExDividend  SplitRatio  \\\n",
       "Date                                                                          \n",
       "2018-03-29  94.94  95.139  88.51  89.47  53704562.0         0.0         1.0   \n",
       "2018-03-28  90.61  94.000  90.40  93.78  55031149.0         0.0         1.0   \n",
       "2018-03-25  89.50  90.460  87.08  87.18  42159397.0         0.0         1.0   \n",
       "\n",
       "            AdjOpen  AdjHigh  AdjLow  AdjClose   AdjVolume  \n",
       "Date                                                        \n",
       "2018-03-29    94.94   95.139   88.51     89.47  53704562.0  \n",
       "2018-03-28    90.61   94.000   90.40     93.78  55031149.0  \n",
       "2018-03-25    89.50   90.460   87.08     87.18  42159397.0  "
      ]
     },
     "execution_count": 45,
     "metadata": {},
     "output_type": "execute_result"
    }
   ],
   "source": [
    "stocks"
   ]
  },
  {
   "cell_type": "code",
   "execution_count": 46,
   "metadata": {},
   "outputs": [
    {
     "data": {
      "text/html": [
       "<div>\n",
       "<style scoped>\n",
       "    .dataframe tbody tr th:only-of-type {\n",
       "        vertical-align: middle;\n",
       "    }\n",
       "\n",
       "    .dataframe tbody tr th {\n",
       "        vertical-align: top;\n",
       "    }\n",
       "\n",
       "    .dataframe thead th {\n",
       "        text-align: right;\n",
       "    }\n",
       "</style>\n",
       "<table border=\"1\" class=\"dataframe\">\n",
       "  <thead>\n",
       "    <tr style=\"text-align: right;\">\n",
       "      <th></th>\n",
       "      <th>Open</th>\n",
       "      <th>High</th>\n",
       "      <th>Low</th>\n",
       "      <th>Close</th>\n",
       "      <th>Volume</th>\n",
       "      <th>ExDividend</th>\n",
       "      <th>SplitRatio</th>\n",
       "      <th>AdjOpen</th>\n",
       "      <th>AdjHigh</th>\n",
       "      <th>AdjLow</th>\n",
       "      <th>AdjClose</th>\n",
       "      <th>AdjVolume</th>\n",
       "    </tr>\n",
       "    <tr>\n",
       "      <th>Date</th>\n",
       "      <th></th>\n",
       "      <th></th>\n",
       "      <th></th>\n",
       "      <th></th>\n",
       "      <th></th>\n",
       "      <th></th>\n",
       "      <th></th>\n",
       "      <th></th>\n",
       "      <th></th>\n",
       "      <th></th>\n",
       "      <th></th>\n",
       "      <th></th>\n",
       "    </tr>\n",
       "  </thead>\n",
       "  <tbody>\n",
       "    <tr>\n",
       "      <th>2018-03-27</th>\n",
       "      <td>94.94</td>\n",
       "      <td>95.139</td>\n",
       "      <td>88.51</td>\n",
       "      <td>89.47</td>\n",
       "      <td>53704562.0</td>\n",
       "      <td>0.0</td>\n",
       "      <td>1.0</td>\n",
       "      <td>94.94</td>\n",
       "      <td>95.139</td>\n",
       "      <td>88.51</td>\n",
       "      <td>89.47</td>\n",
       "      <td>53704562.0</td>\n",
       "    </tr>\n",
       "    <tr>\n",
       "      <th>2018-03-26</th>\n",
       "      <td>90.61</td>\n",
       "      <td>94.000</td>\n",
       "      <td>90.40</td>\n",
       "      <td>93.78</td>\n",
       "      <td>55031149.0</td>\n",
       "      <td>0.0</td>\n",
       "      <td>1.0</td>\n",
       "      <td>90.61</td>\n",
       "      <td>94.000</td>\n",
       "      <td>90.40</td>\n",
       "      <td>93.78</td>\n",
       "      <td>55031149.0</td>\n",
       "    </tr>\n",
       "    <tr>\n",
       "      <th>2018-03-23</th>\n",
       "      <td>89.50</td>\n",
       "      <td>90.460</td>\n",
       "      <td>87.08</td>\n",
       "      <td>87.18</td>\n",
       "      <td>42159397.0</td>\n",
       "      <td>0.0</td>\n",
       "      <td>1.0</td>\n",
       "      <td>89.50</td>\n",
       "      <td>90.460</td>\n",
       "      <td>87.08</td>\n",
       "      <td>87.18</td>\n",
       "      <td>42159397.0</td>\n",
       "    </tr>\n",
       "  </tbody>\n",
       "</table>\n",
       "</div>"
      ],
      "text/plain": [
       "             Open    High    Low  Close      Volume  ExDividend  SplitRatio  \\\n",
       "Date                                                                          \n",
       "2018-03-27  94.94  95.139  88.51  89.47  53704562.0         0.0         1.0   \n",
       "2018-03-26  90.61  94.000  90.40  93.78  55031149.0         0.0         1.0   \n",
       "2018-03-23  89.50  90.460  87.08  87.18  42159397.0         0.0         1.0   \n",
       "\n",
       "            AdjOpen  AdjHigh  AdjLow  AdjClose   AdjVolume  \n",
       "Date                                                        \n",
       "2018-03-27    94.94   95.139   88.51     89.47  53704562.0  \n",
       "2018-03-26    90.61   94.000   90.40     93.78  55031149.0  \n",
       "2018-03-23    89.50   90.460   87.08     87.18  42159397.0  "
      ]
     },
     "execution_count": 46,
     "metadata": {},
     "output_type": "execute_result"
    }
   ],
   "source": [
    "stocks = data.DataReader(\"MSFT\" , \"quandl\", start = \"2000-01-01\" ,end = \"2018-06-27\",access_key = \"ZyBDvgzoPnsjo8b-M4s5\")\n",
    "stocks.head(3)"
   ]
  },
  {
   "cell_type": "code",
   "execution_count": 49,
   "metadata": {},
   "outputs": [
    {
     "data": {
      "text/plain": [
       "DatetimeIndex(['2018-03-31', '2018-03-31', '2018-03-31', '2018-03-31',\n",
       "               '2018-03-31', '2018-03-31', '2018-03-31', '2018-03-31',\n",
       "               '2018-03-31', '2018-03-31',\n",
       "               ...\n",
       "               '2000-01-31', '2000-01-31', '2000-01-31', '2000-01-31',\n",
       "               '2000-01-31', '2000-01-31', '2000-01-31', '2000-01-31',\n",
       "               '2000-01-31', '2000-01-31'],\n",
       "              dtype='datetime64[ns]', name='Date', length=4586, freq=None)"
      ]
     },
     "execution_count": 49,
     "metadata": {},
     "output_type": "execute_result"
    }
   ],
   "source": [
    "stocks.index + pd.tseries.offsets.MonthEnd()"
   ]
  },
  {
   "cell_type": "code",
   "execution_count": 53,
   "metadata": {},
   "outputs": [
    {
     "data": {
      "text/plain": [
       "DatetimeIndex(['2018-04-01', '2018-04-01', '2018-04-01', '2018-04-01',\n",
       "               '2018-04-01', '2018-04-01', '2018-04-01', '2018-04-01',\n",
       "               '2018-04-01', '2018-04-01',\n",
       "               ...\n",
       "               '2000-02-01', '2000-02-01', '2000-02-01', '2000-02-01',\n",
       "               '2000-02-01', '2000-02-01', '2000-02-01', '2000-02-01',\n",
       "               '2000-02-01', '2000-02-01'],\n",
       "              dtype='datetime64[ns]', name='Date', length=4586, freq=None)"
      ]
     },
     "execution_count": 53,
     "metadata": {},
     "output_type": "execute_result"
    }
   ],
   "source": [
    "stocks.index + pd.tseries.offsets.MonthBegin()"
   ]
  },
  {
   "cell_type": "code",
   "execution_count": 54,
   "metadata": {},
   "outputs": [
    {
     "data": {
      "text/plain": [
       "DatetimeIndex(['2018-03-31', '2018-03-31', '2018-03-31', '2018-03-31',\n",
       "               '2018-03-31', '2018-03-31', '2018-03-31', '2018-03-31',\n",
       "               '2018-03-31', '2018-03-31',\n",
       "               ...\n",
       "               '2000-03-31', '2000-03-31', '2000-03-31', '2000-03-31',\n",
       "               '2000-03-31', '2000-03-31', '2000-03-31', '2000-03-31',\n",
       "               '2000-03-31', '2000-03-31'],\n",
       "              dtype='datetime64[ns]', name='Date', length=4586, freq=None)"
      ]
     },
     "execution_count": 54,
     "metadata": {},
     "output_type": "execute_result"
    }
   ],
   "source": [
    "stocks.index + pd.tseries.offsets.QuarterEnd()"
   ]
  },
  {
   "cell_type": "code",
   "execution_count": 56,
   "metadata": {},
   "outputs": [
    {
     "data": {
      "text/plain": [
       "DatetimeIndex(['2018-06-01', '2018-06-01', '2018-06-01', '2018-06-01',\n",
       "               '2018-06-01', '2018-06-01', '2018-06-01', '2018-06-01',\n",
       "               '2018-06-01', '2018-06-01',\n",
       "               ...\n",
       "               '2000-03-01', '2000-03-01', '2000-03-01', '2000-03-01',\n",
       "               '2000-03-01', '2000-03-01', '2000-03-01', '2000-03-01',\n",
       "               '2000-03-01', '2000-03-01'],\n",
       "              dtype='datetime64[ns]', name='Date', length=4586, freq=None)"
      ]
     },
     "execution_count": 56,
     "metadata": {},
     "output_type": "execute_result"
    }
   ],
   "source": [
    "stocks.index + pd.tseries.offsets.QuarterBegin()"
   ]
  },
  {
   "cell_type": "code",
   "execution_count": 57,
   "metadata": {},
   "outputs": [],
   "source": [
    "from pandas.tseries.offsets import *"
   ]
  },
  {
   "cell_type": "code",
   "execution_count": 58,
   "metadata": {},
   "outputs": [
    {
     "data": {
      "text/plain": [
       "DatetimeIndex(['2018-03-31', '2018-03-31', '2018-03-31', '2018-03-31',\n",
       "               '2018-03-31', '2018-03-31', '2018-03-31', '2018-03-31',\n",
       "               '2018-03-31', '2018-03-31',\n",
       "               ...\n",
       "               '2000-01-31', '2000-01-31', '2000-01-31', '2000-01-31',\n",
       "               '2000-01-31', '2000-01-31', '2000-01-31', '2000-01-31',\n",
       "               '2000-01-31', '2000-01-31'],\n",
       "              dtype='datetime64[ns]', name='Date', length=4586, freq=None)"
      ]
     },
     "execution_count": 58,
     "metadata": {},
     "output_type": "execute_result"
    }
   ],
   "source": [
    "stocks.index + MonthEnd()"
   ]
  },
  {
   "cell_type": "code",
   "execution_count": 59,
   "metadata": {},
   "outputs": [
    {
     "data": {
      "text/plain": [
       "DatetimeIndex(['2018-04-01', '2018-04-01', '2018-04-01', '2018-04-01',\n",
       "               '2018-04-01', '2018-04-01', '2018-04-01', '2018-04-01',\n",
       "               '2018-04-01', '2018-04-01',\n",
       "               ...\n",
       "               '2000-02-01', '2000-02-01', '2000-02-01', '2000-02-01',\n",
       "               '2000-02-01', '2000-02-01', '2000-02-01', '2000-02-01',\n",
       "               '2000-02-01', '2000-02-01'],\n",
       "              dtype='datetime64[ns]', name='Date', length=4586, freq=None)"
      ]
     },
     "execution_count": 59,
     "metadata": {},
     "output_type": "execute_result"
    }
   ],
   "source": [
    "stocks.index + MonthBegin()"
   ]
  },
  {
   "cell_type": "code",
   "execution_count": 60,
   "metadata": {},
   "outputs": [
    {
     "data": {
      "text/plain": [
       "DatetimeIndex(['2018-02-28', '2018-02-28', '2018-02-28', '2018-02-28',\n",
       "               '2018-02-28', '2018-02-28', '2018-02-28', '2018-02-28',\n",
       "               '2018-02-28', '2018-02-28',\n",
       "               ...\n",
       "               '1999-12-31', '1999-12-31', '1999-12-31', '1999-12-31',\n",
       "               '1999-12-31', '1999-12-31', '1999-12-31', '1999-12-31',\n",
       "               '1999-12-31', '1999-12-31'],\n",
       "              dtype='datetime64[ns]', name='Date', length=4586, freq=None)"
      ]
     },
     "execution_count": 60,
     "metadata": {},
     "output_type": "execute_result"
    }
   ],
   "source": [
    "stocks.index - MonthEnd()"
   ]
  },
  {
   "cell_type": "code",
   "execution_count": 61,
   "metadata": {},
   "outputs": [
    {
     "data": {
      "text/plain": [
       "DatetimeIndex(['2018-03-01', '2018-03-01', '2018-03-01', '2018-03-01',\n",
       "               '2018-03-01', '2018-03-01', '2018-03-01', '2018-03-01',\n",
       "               '2018-03-01', '2018-03-01',\n",
       "               ...\n",
       "               '2000-01-01', '2000-01-01', '2000-01-01', '2000-01-01',\n",
       "               '2000-01-01', '2000-01-01', '2000-01-01', '2000-01-01',\n",
       "               '2000-01-01', '2000-01-01'],\n",
       "              dtype='datetime64[ns]', name='Date', length=4586, freq=None)"
      ]
     },
     "execution_count": 61,
     "metadata": {},
     "output_type": "execute_result"
    }
   ],
   "source": [
    "stocks.index - MonthBegin()"
   ]
  },
  {
   "cell_type": "markdown",
   "metadata": {},
   "source": [
    "### The TimeDelta object"
   ]
  },
  {
   "cell_type": "code",
   "execution_count": 65,
   "metadata": {},
   "outputs": [],
   "source": [
    "timeA = pd.Timestamp(\"2018-06-27\")"
   ]
  },
  {
   "cell_type": "code",
   "execution_count": 66,
   "metadata": {},
   "outputs": [],
   "source": [
    "timeB = pd.Timestamp(\"2018-06-20\")"
   ]
  },
  {
   "cell_type": "code",
   "execution_count": 67,
   "metadata": {},
   "outputs": [
    {
     "data": {
      "text/plain": [
       "Timedelta('7 days 00:00:00')"
      ]
     },
     "execution_count": 67,
     "metadata": {},
     "output_type": "execute_result"
    }
   ],
   "source": [
    "timeA - timeB"
   ]
  },
  {
   "cell_type": "code",
   "execution_count": 71,
   "metadata": {},
   "outputs": [],
   "source": [
    "timeC = pd.Timestamp(\"2018-06-21 10:45:12\")"
   ]
  },
  {
   "cell_type": "code",
   "execution_count": 72,
   "metadata": {},
   "outputs": [
    {
     "data": {
      "text/plain": [
       "Timedelta('5 days 13:14:48')"
      ]
     },
     "execution_count": 72,
     "metadata": {},
     "output_type": "execute_result"
    }
   ],
   "source": [
    "timeA-timeC"
   ]
  },
  {
   "cell_type": "code",
   "execution_count": 73,
   "metadata": {},
   "outputs": [
    {
     "data": {
      "text/plain": [
       "Timedelta('-2 days +13:14:48')"
      ]
     },
     "execution_count": 73,
     "metadata": {},
     "output_type": "execute_result"
    }
   ],
   "source": [
    "timeB - timeC"
   ]
  },
  {
   "cell_type": "code",
   "execution_count": 74,
   "metadata": {},
   "outputs": [
    {
     "data": {
      "text/plain": [
       "pandas._libs.tslibs.timestamps.Timestamp"
      ]
     },
     "execution_count": 74,
     "metadata": {},
     "output_type": "execute_result"
    }
   ],
   "source": [
    "type(timeA)"
   ]
  },
  {
   "cell_type": "code",
   "execution_count": 75,
   "metadata": {},
   "outputs": [
    {
     "data": {
      "text/plain": [
       "pandas._libs.tslibs.timedeltas.Timedelta"
      ]
     },
     "execution_count": 75,
     "metadata": {},
     "output_type": "execute_result"
    }
   ],
   "source": [
    "type(timeB - timeA)"
   ]
  },
  {
   "cell_type": "code",
   "execution_count": 77,
   "metadata": {},
   "outputs": [],
   "source": [
    "timeD = pd.Timedelta(weeks = 2 , days = 4 , hours = 5 , minutes = 40 ,seconds = 12)"
   ]
  },
  {
   "cell_type": "code",
   "execution_count": 78,
   "metadata": {},
   "outputs": [
    {
     "data": {
      "text/plain": [
       "Timedelta('18 days 05:40:12')"
      ]
     },
     "execution_count": 78,
     "metadata": {},
     "output_type": "execute_result"
    }
   ],
   "source": [
    "timeD"
   ]
  },
  {
   "cell_type": "code",
   "execution_count": 79,
   "metadata": {},
   "outputs": [
    {
     "data": {
      "text/plain": [
       "Timestamp('2018-07-15 05:40:12')"
      ]
     },
     "execution_count": 79,
     "metadata": {},
     "output_type": "execute_result"
    }
   ],
   "source": [
    "timeA + timeD"
   ]
  },
  {
   "cell_type": "code",
   "execution_count": 89,
   "metadata": {},
   "outputs": [],
   "source": [
    "timeE = pd.Timedelta(\"4 days 2 hours 12 minutes 34 seconds\") # on adding weeks , it throws Error"
   ]
  },
  {
   "cell_type": "code",
   "execution_count": 90,
   "metadata": {},
   "outputs": [
    {
     "data": {
      "text/plain": [
       "Timedelta('4 days 02:12:34')"
      ]
     },
     "execution_count": 90,
     "metadata": {},
     "output_type": "execute_result"
    }
   ],
   "source": [
    "timeE"
   ]
  },
  {
   "cell_type": "code",
   "execution_count": 92,
   "metadata": {},
   "outputs": [
    {
     "data": {
      "text/plain": [
       "Timedelta('18 days 05:40:12')"
      ]
     },
     "execution_count": 92,
     "metadata": {},
     "output_type": "execute_result"
    }
   ],
   "source": [
    "timeD"
   ]
  },
  {
   "cell_type": "code",
   "execution_count": 93,
   "metadata": {},
   "outputs": [
    {
     "data": {
      "text/plain": [
       "Timedelta('22 days 07:52:46')"
      ]
     },
     "execution_count": 93,
     "metadata": {},
     "output_type": "execute_result"
    }
   ],
   "source": [
    "timeE + timeD"
   ]
  },
  {
   "cell_type": "code",
   "execution_count": 98,
   "metadata": {},
   "outputs": [],
   "source": [
    "# Timedelta + Timedelta = Timedelta\n",
    "# Timestamp + Timedelta = Timestamp\n",
    "# Timedelta + Timestamp = Timestamp\n",
    "# timestamp + timestamp = Eror (unsupported operand type)"
   ]
  },
  {
   "cell_type": "markdown",
   "metadata": {},
   "source": [
    "### Timedeltas in Dataset"
   ]
  },
  {
   "cell_type": "code",
   "execution_count": 103,
   "metadata": {},
   "outputs": [
    {
     "data": {
      "text/html": [
       "<div>\n",
       "<style scoped>\n",
       "    .dataframe tbody tr th:only-of-type {\n",
       "        vertical-align: middle;\n",
       "    }\n",
       "\n",
       "    .dataframe tbody tr th {\n",
       "        vertical-align: top;\n",
       "    }\n",
       "\n",
       "    .dataframe thead th {\n",
       "        text-align: right;\n",
       "    }\n",
       "</style>\n",
       "<table border=\"1\" class=\"dataframe\">\n",
       "  <thead>\n",
       "    <tr style=\"text-align: right;\">\n",
       "      <th></th>\n",
       "      <th>order_date</th>\n",
       "      <th>delivery_date</th>\n",
       "    </tr>\n",
       "    <tr>\n",
       "      <th>ID</th>\n",
       "      <th></th>\n",
       "      <th></th>\n",
       "    </tr>\n",
       "  </thead>\n",
       "  <tbody>\n",
       "    <tr>\n",
       "      <th>1</th>\n",
       "      <td>1998-05-24</td>\n",
       "      <td>1999-02-05</td>\n",
       "    </tr>\n",
       "    <tr>\n",
       "      <th>2</th>\n",
       "      <td>1992-04-22</td>\n",
       "      <td>1998-03-06</td>\n",
       "    </tr>\n",
       "    <tr>\n",
       "      <th>4</th>\n",
       "      <td>1991-02-10</td>\n",
       "      <td>1992-08-26</td>\n",
       "    </tr>\n",
       "  </tbody>\n",
       "</table>\n",
       "</div>"
      ],
      "text/plain": [
       "   order_date delivery_date\n",
       "ID                         \n",
       "1  1998-05-24    1999-02-05\n",
       "2  1992-04-22    1998-03-06\n",
       "4  1991-02-10    1992-08-26"
      ]
     },
     "execution_count": 103,
     "metadata": {},
     "output_type": "execute_result"
    }
   ],
   "source": [
    "shipping = pd.read_csv(\"input/ecommerce.csv\" , index_col = \"ID\" , parse_dates = [\"order_date\",\"delivery_date\"])\n",
    "shipping.head(3)"
   ]
  },
  {
   "cell_type": "code",
   "execution_count": 107,
   "metadata": {},
   "outputs": [
    {
     "data": {
      "text/html": [
       "<div>\n",
       "<style scoped>\n",
       "    .dataframe tbody tr th:only-of-type {\n",
       "        vertical-align: middle;\n",
       "    }\n",
       "\n",
       "    .dataframe tbody tr th {\n",
       "        vertical-align: top;\n",
       "    }\n",
       "\n",
       "    .dataframe thead th {\n",
       "        text-align: right;\n",
       "    }\n",
       "</style>\n",
       "<table border=\"1\" class=\"dataframe\">\n",
       "  <thead>\n",
       "    <tr style=\"text-align: right;\">\n",
       "      <th></th>\n",
       "      <th>order_date</th>\n",
       "      <th>delivery_date</th>\n",
       "      <th>Delivery Time</th>\n",
       "    </tr>\n",
       "    <tr>\n",
       "      <th>ID</th>\n",
       "      <th></th>\n",
       "      <th></th>\n",
       "      <th></th>\n",
       "    </tr>\n",
       "  </thead>\n",
       "  <tbody>\n",
       "    <tr>\n",
       "      <th>1</th>\n",
       "      <td>1998-05-24</td>\n",
       "      <td>1999-02-05</td>\n",
       "      <td>257 days</td>\n",
       "    </tr>\n",
       "    <tr>\n",
       "      <th>2</th>\n",
       "      <td>1992-04-22</td>\n",
       "      <td>1998-03-06</td>\n",
       "      <td>2144 days</td>\n",
       "    </tr>\n",
       "    <tr>\n",
       "      <th>4</th>\n",
       "      <td>1991-02-10</td>\n",
       "      <td>1992-08-26</td>\n",
       "      <td>563 days</td>\n",
       "    </tr>\n",
       "  </tbody>\n",
       "</table>\n",
       "</div>"
      ],
      "text/plain": [
       "   order_date delivery_date Delivery Time\n",
       "ID                                       \n",
       "1  1998-05-24    1999-02-05      257 days\n",
       "2  1992-04-22    1998-03-06     2144 days\n",
       "4  1991-02-10    1992-08-26      563 days"
      ]
     },
     "execution_count": 107,
     "metadata": {},
     "output_type": "execute_result"
    }
   ],
   "source": [
    "shipping[\"Delivery Time\"] = shipping[\"delivery_date\"] - shipping[\"order_date\"]\n",
    "shipping.head(3)"
   ]
  },
  {
   "cell_type": "code",
   "execution_count": 109,
   "metadata": {},
   "outputs": [],
   "source": [
    "shipping[\"Twice As Long\"] = shipping[\"delivery_date\"] + shipping[\"Delivery Time\"]"
   ]
  },
  {
   "cell_type": "code",
   "execution_count": 112,
   "metadata": {},
   "outputs": [
    {
     "data": {
      "text/html": [
       "<div>\n",
       "<style scoped>\n",
       "    .dataframe tbody tr th:only-of-type {\n",
       "        vertical-align: middle;\n",
       "    }\n",
       "\n",
       "    .dataframe tbody tr th {\n",
       "        vertical-align: top;\n",
       "    }\n",
       "\n",
       "    .dataframe thead th {\n",
       "        text-align: right;\n",
       "    }\n",
       "</style>\n",
       "<table border=\"1\" class=\"dataframe\">\n",
       "  <thead>\n",
       "    <tr style=\"text-align: right;\">\n",
       "      <th></th>\n",
       "      <th>order_date</th>\n",
       "      <th>delivery_date</th>\n",
       "      <th>Delivery Time</th>\n",
       "      <th>Twice As Long</th>\n",
       "    </tr>\n",
       "    <tr>\n",
       "      <th>ID</th>\n",
       "      <th></th>\n",
       "      <th></th>\n",
       "      <th></th>\n",
       "      <th></th>\n",
       "    </tr>\n",
       "  </thead>\n",
       "  <tbody>\n",
       "    <tr>\n",
       "      <th>1</th>\n",
       "      <td>1998-05-24</td>\n",
       "      <td>1999-02-05</td>\n",
       "      <td>257 days</td>\n",
       "      <td>1999-10-20</td>\n",
       "    </tr>\n",
       "    <tr>\n",
       "      <th>2</th>\n",
       "      <td>1992-04-22</td>\n",
       "      <td>1998-03-06</td>\n",
       "      <td>2144 days</td>\n",
       "      <td>2004-01-18</td>\n",
       "    </tr>\n",
       "    <tr>\n",
       "      <th>4</th>\n",
       "      <td>1991-02-10</td>\n",
       "      <td>1992-08-26</td>\n",
       "      <td>563 days</td>\n",
       "      <td>1994-03-12</td>\n",
       "    </tr>\n",
       "  </tbody>\n",
       "</table>\n",
       "</div>"
      ],
      "text/plain": [
       "   order_date delivery_date Delivery Time Twice As Long\n",
       "ID                                                     \n",
       "1  1998-05-24    1999-02-05      257 days    1999-10-20\n",
       "2  1992-04-22    1998-03-06     2144 days    2004-01-18\n",
       "4  1991-02-10    1992-08-26      563 days    1994-03-12"
      ]
     },
     "execution_count": 112,
     "metadata": {},
     "output_type": "execute_result"
    }
   ],
   "source": [
    "shipping.head(3)"
   ]
  },
  {
   "cell_type": "code",
   "execution_count": 116,
   "metadata": {},
   "outputs": [
    {
     "data": {
      "text/html": [
       "<div>\n",
       "<style scoped>\n",
       "    .dataframe tbody tr th:only-of-type {\n",
       "        vertical-align: middle;\n",
       "    }\n",
       "\n",
       "    .dataframe tbody tr th {\n",
       "        vertical-align: top;\n",
       "    }\n",
       "\n",
       "    .dataframe thead th {\n",
       "        text-align: right;\n",
       "    }\n",
       "</style>\n",
       "<table border=\"1\" class=\"dataframe\">\n",
       "  <thead>\n",
       "    <tr style=\"text-align: right;\">\n",
       "      <th></th>\n",
       "      <th>order_date</th>\n",
       "      <th>delivery_date</th>\n",
       "      <th>Delivery Time</th>\n",
       "      <th>Twice As Long</th>\n",
       "    </tr>\n",
       "    <tr>\n",
       "      <th>ID</th>\n",
       "      <th></th>\n",
       "      <th></th>\n",
       "      <th></th>\n",
       "      <th></th>\n",
       "    </tr>\n",
       "  </thead>\n",
       "  <tbody>\n",
       "    <tr>\n",
       "      <th>314</th>\n",
       "      <td>1990-03-07</td>\n",
       "      <td>1999-12-25</td>\n",
       "      <td>3580 days</td>\n",
       "      <td>2009-10-13</td>\n",
       "    </tr>\n",
       "    <tr>\n",
       "      <th>884</th>\n",
       "      <td>1990-01-20</td>\n",
       "      <td>1999-11-12</td>\n",
       "      <td>3583 days</td>\n",
       "      <td>2009-09-03</td>\n",
       "    </tr>\n",
       "    <tr>\n",
       "      <th>904</th>\n",
       "      <td>1990-02-13</td>\n",
       "      <td>1999-11-15</td>\n",
       "      <td>3562 days</td>\n",
       "      <td>2009-08-16</td>\n",
       "    </tr>\n",
       "  </tbody>\n",
       "</table>\n",
       "</div>"
      ],
      "text/plain": [
       "    order_date delivery_date Delivery Time Twice As Long\n",
       "ID                                                      \n",
       "314 1990-03-07    1999-12-25     3580 days    2009-10-13\n",
       "884 1990-01-20    1999-11-12     3583 days    2009-09-03\n",
       "904 1990-02-13    1999-11-15     3562 days    2009-08-16"
      ]
     },
     "execution_count": 116,
     "metadata": {},
     "output_type": "execute_result"
    }
   ],
   "source": [
    "mask = shipping[\"Delivery Time\"] > \"3500 days\"\n",
    "shipping[mask]"
   ]
  }
 ],
 "metadata": {
  "kernelspec": {
   "display_name": "Python 3",
   "language": "python",
   "name": "python3"
  },
  "language_info": {
   "codemirror_mode": {
    "name": "ipython",
    "version": 3
   },
   "file_extension": ".py",
   "mimetype": "text/x-python",
   "name": "python",
   "nbconvert_exporter": "python",
   "pygments_lexer": "ipython3",
   "version": "3.6.5"
  }
 },
 "nbformat": 4,
 "nbformat_minor": 2
}
